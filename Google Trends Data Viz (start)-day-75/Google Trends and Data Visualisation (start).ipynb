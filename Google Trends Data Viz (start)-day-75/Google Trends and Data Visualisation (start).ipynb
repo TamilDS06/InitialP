{
 "cells": [
  {
   "cell_type": "markdown",
   "metadata": {},
   "source": [
    "# Introduction"
   ]
  },
  {
   "cell_type": "markdown",
   "metadata": {},
   "source": [
    "Google Trends gives us an estimate of search volume. Let's explore if search popularity relates to other kinds of data. Perhaps there are patterns in Google's search volume and the price of Bitcoin or a hot stock like Tesla. Perhaps search volume for the term \"Unemployment Benefits\" can tell us something about the actual unemployment rate? \n",
    "\n",
    "Data Sources: <br>\n",
    "<ul>\n",
    "<li> <a href=\"https://fred.stlouisfed.org/series/UNRATE/\">Unemployment Rate from FRED</a></li>\n",
    "<li> <a href=\"https://trends.google.com/trends/explore\">Google Trends</a> </li>  \n",
    "<li> <a href=\"https://finance.yahoo.com/quote/TSLA/history?p=TSLA\">Yahoo Finance for Tesla Stock Price</a> </li>    \n",
    "<li> <a href=\"https://finance.yahoo.com/quote/BTC-USD/history?p=BTC-USD\">Yahoo Finance for Bitcoin Stock Price</a> </li>\n",
    "</ul>"
   ]
  },
  {
   "cell_type": "markdown",
   "metadata": {},
   "source": [
    "# Import Statements"
   ]
  },
  {
   "cell_type": "code",
   "execution_count": 58,
   "metadata": {},
   "outputs": [],
   "source": [
    "import pandas as pd\n",
    "import matplotlib.pyplot as plt"
   ]
  },
  {
   "cell_type": "markdown",
   "metadata": {},
   "source": [
    "# Read the Data\n",
    "\n",
    "Download and add the .csv files to the same folder as your notebook."
   ]
  },
  {
   "cell_type": "code",
   "execution_count": 2,
   "metadata": {},
   "outputs": [],
   "source": [
    "df_tesla = pd.read_csv('TESLA Search Trend vs Price.csv')\n",
    "\n",
    "df_btc_search = pd.read_csv('Bitcoin Search Trend.csv')\n",
    "df_btc_price = pd.read_csv('Daily Bitcoin Price.csv')\n",
    "\n",
    "df_unemployment = pd.read_csv('UE Benefits Search vs UE Rate 2004-19.csv')"
   ]
  },
  {
   "cell_type": "markdown",
   "metadata": {},
   "source": [
    "# Data Exploration"
   ]
  },
  {
   "cell_type": "markdown",
   "metadata": {},
   "source": [
    "**Challenge**: <br>\n",
    "<ul>\n",
    "<li>What are the shapes of the dataframes? </li>\n",
    "<li>How many rows and columns? </li>\n",
    "<li>What are the column names? </li>\n",
    "<li>Complete the f-string to show the largest/smallest number in the search data column</li> \n",
    "<li>Try the <code>.describe()</code> function to see some useful descriptive statistics</li>\n",
    "<li>What is the periodicity of the time series data (daily, weekly, monthly)? </li>\n",
    "<li>What does a value of 100 in the Google Trend search popularity actually mean?</li>\n",
    "</ul>"
   ]
  },
  {
   "cell_type": "markdown",
   "metadata": {},
   "source": [
    "### Tesla"
   ]
  },
  {
   "cell_type": "code",
   "execution_count": 4,
   "metadata": {},
   "outputs": [
    {
     "name": "stdout",
     "output_type": "stream",
     "text": [
      "(124, 3)\n",
      "Index(['MONTH', 'TSLA_WEB_SEARCH', 'TSLA_USD_CLOSE'], dtype='object')\n"
     ]
    }
   ],
   "source": [
    "print(df_tesla.shape)\n",
    "print(df_tesla.columns)"
   ]
  },
  {
   "cell_type": "code",
   "execution_count": 14,
   "metadata": {},
   "outputs": [
    {
     "name": "stdout",
     "output_type": "stream",
     "text": [
      "Largest value for Tesla in Web Search: 31\n",
      "Smallest value for Tesla in Web Search: 2\n",
      "       TSLA_WEB_SEARCH  TSLA_USD_CLOSE\n",
      "count       124.000000      124.000000\n",
      "mean          8.725806       50.962145\n",
      "std           5.870332       65.908389\n",
      "min           2.000000        3.896000\n",
      "25%           3.750000        7.352500\n",
      "50%           8.000000       44.653000\n",
      "75%          12.000000       58.991999\n",
      "max          31.000000      498.320007\n"
     ]
    }
   ],
   "source": [
    "print(f'Largest value for Tesla in Web Search: {df_tesla.TSLA_WEB_SEARCH.max()}')\n",
    "print(f'Smallest value for Tesla in Web Search: {df_tesla.TSLA_WEB_SEARCH.min()}')\n",
    "print(df_tesla.describe())"
   ]
  },
  {
   "cell_type": "code",
   "execution_count": 13,
   "metadata": {},
   "outputs": [
    {
     "data": {
      "text/plain": [
       "'MS'"
      ]
     },
     "execution_count": 13,
     "metadata": {},
     "output_type": "execute_result"
    }
   ],
   "source": [
    "pd.infer_freq(index=df_tesla.MONTH)"
   ]
  },
  {
   "cell_type": "markdown",
   "metadata": {},
   "source": [
    "### Unemployment Data"
   ]
  },
  {
   "cell_type": "code",
   "execution_count": 24,
   "metadata": {},
   "outputs": [
    {
     "name": "stdout",
     "output_type": "stream",
     "text": [
      "(181, 3)\n",
      "Index(['MONTH', 'UE_BENEFITS_WEB_SEARCH', 'UNRATE'], dtype='object')\n",
      "     MONTH  UE_BENEFITS_WEB_SEARCH  UNRATE\n",
      "0  2004-01                      34     5.7\n",
      "1  2004-02                      33     5.6\n",
      "2  2004-03                      25     5.8\n",
      "3  2004-04                      29     5.6\n",
      "4  2004-05                      23     5.6\n",
      "       UE_BENEFITS_WEB_SEARCH      UNRATE\n",
      "count              181.000000  181.000000\n",
      "mean                35.110497    6.217680\n",
      "std                 20.484925    1.891859\n",
      "min                 14.000000    3.700000\n",
      "25%                 21.000000    4.700000\n",
      "50%                 26.000000    5.400000\n",
      "75%                 45.000000    7.800000\n",
      "max                100.000000   10.000000\n"
     ]
    }
   ],
   "source": [
    "print(df_unemployment.shape)\n",
    "print(df_unemployment.columns)\n",
    "print(df_unemployment.head())\n",
    "print(df_unemployment.describe())"
   ]
  },
  {
   "cell_type": "code",
   "execution_count": 20,
   "metadata": {},
   "outputs": [
    {
     "name": "stdout",
     "output_type": "stream",
     "text": [
      "Largest value for \"Unemployemnt Benefits\" in Web Search: 100\n"
     ]
    }
   ],
   "source": [
    "print('Largest value for \"Unemployemnt Benefits\" '\n",
    "      f'in Web Search: {df_unemployment.UE_BENEFITS_WEB_SEARCH.max()}')"
   ]
  },
  {
   "cell_type": "markdown",
   "metadata": {},
   "source": [
    "### Bitcoin"
   ]
  },
  {
   "cell_type": "code",
   "execution_count": 25,
   "metadata": {},
   "outputs": [
    {
     "name": "stdout",
     "output_type": "stream",
     "text": [
      "(73, 2)\n",
      "Index(['MONTH', 'BTC_NEWS_SEARCH'], dtype='object')\n",
      "     MONTH  BTC_NEWS_SEARCH\n",
      "0  2014-09                5\n",
      "1  2014-10                4\n",
      "2  2014-11                4\n",
      "3  2014-12                4\n",
      "4  2015-01                5\n",
      "       BTC_NEWS_SEARCH\n",
      "count        73.000000\n",
      "mean         15.013699\n",
      "std          15.146959\n",
      "min           3.000000\n",
      "25%           5.000000\n",
      "50%          14.000000\n",
      "75%          18.000000\n",
      "max         100.000000\n"
     ]
    }
   ],
   "source": [
    "print(df_btc_search.shape)\n",
    "print(df_btc_search.columns)\n",
    "print(df_btc_search.head())\n",
    "print(df_btc_search.describe())"
   ]
  },
  {
   "cell_type": "code",
   "execution_count": null,
   "metadata": {},
   "outputs": [],
   "source": []
  },
  {
   "cell_type": "code",
   "execution_count": 26,
   "metadata": {},
   "outputs": [
    {
     "name": "stdout",
     "output_type": "stream",
     "text": [
      "largest BTC News Search: 100\n"
     ]
    }
   ],
   "source": [
    "print(f'largest BTC News Search: {df_btc_search.BTC_NEWS_SEARCH.max()}')"
   ]
  },
  {
   "cell_type": "markdown",
   "metadata": {},
   "source": [
    "# Data Cleaning"
   ]
  },
  {
   "cell_type": "markdown",
   "metadata": {},
   "source": [
    "### Check for Missing Values"
   ]
  },
  {
   "cell_type": "markdown",
   "metadata": {},
   "source": [
    "**Challenge**: Are there any missing values in any of the dataframes? If so, which row/rows have missing values? How many missing values are there?"
   ]
  },
  {
   "cell_type": "code",
   "execution_count": 7,
   "metadata": {},
   "outputs": [
    {
     "name": "stdout",
     "output_type": "stream",
     "text": [
      "Missing values for Tesla?: \n",
      "Missing values for U/E?: \n",
      "Missing values for BTC Search?: \n"
     ]
    }
   ],
   "source": [
    "print(f'Missing values for Tesla?: ')\n",
    "print(f'Missing values for U/E?: ')\n",
    "print(f'Missing values for BTC Search?: ')"
   ]
  },
  {
   "cell_type": "code",
   "execution_count": 8,
   "metadata": {},
   "outputs": [
    {
     "name": "stdout",
     "output_type": "stream",
     "text": [
      "Missing values for BTC price?: \n"
     ]
    }
   ],
   "source": [
    "print(f'Missing values for BTC price?: ')"
   ]
  },
  {
   "cell_type": "code",
   "execution_count": 5,
   "metadata": {},
   "outputs": [
    {
     "name": "stdout",
     "output_type": "stream",
     "text": [
      "Number of missing values: \n"
     ]
    }
   ],
   "source": [
    "print(f'Number of missing values: ')"
   ]
  },
  {
   "cell_type": "markdown",
   "metadata": {},
   "source": [
    "**Challenge**: Remove any missing values that you found. "
   ]
  },
  {
   "cell_type": "code",
   "execution_count": 35,
   "metadata": {},
   "outputs": [
    {
     "name": "stdout",
     "output_type": "stream",
     "text": [
      "MONTH              0\n",
      "TSLA_WEB_SEARCH    0\n",
      "TSLA_USD_CLOSE     0\n",
      "dtype: int64\n",
      "MONTH                     0\n",
      "UE_BENEFITS_WEB_SEARCH    0\n",
      "UNRATE                    0\n",
      "dtype: int64\n",
      "MONTH              0\n",
      "BTC_NEWS_SEARCH    0\n",
      "dtype: int64\n",
      "DATE      0\n",
      "CLOSE     1\n",
      "VOLUME    1\n",
      "dtype: int64\n"
     ]
    }
   ],
   "source": [
    "print(df_tesla.isna().sum())\n",
    "print(df_unemployment.isna().sum())\n",
    "print(df_btc_search.isna().sum())\n",
    "print(df_btc_price.isna().sum())\n",
    "# print(f'Missing values for Tesla?: {df_tesla.isna().values.any()}')\n",
    "# print(f'Missing values for U/E?: {df_unemployment.isna().values.any()}')\n",
    "# print(f'Missing values for BTC Search?: {df_btc_search.isna().values.any()}')\n",
    "df_btc_price.dropna(inplace=True)"
   ]
  },
  {
   "cell_type": "code",
   "execution_count": 36,
   "metadata": {},
   "outputs": [
    {
     "name": "stdout",
     "output_type": "stream",
     "text": [
      "DATE      0\n",
      "CLOSE     0\n",
      "VOLUME    0\n",
      "dtype: int64\n"
     ]
    }
   ],
   "source": [
    "print(df_btc_price.isna().sum())"
   ]
  },
  {
   "cell_type": "markdown",
   "metadata": {},
   "source": [
    "### Convert Strings to DateTime Objects"
   ]
  },
  {
   "cell_type": "markdown",
   "metadata": {},
   "source": [
    "**Challenge**: Check the data type of the entries in the DataFrame MONTH or DATE columns. Convert any strings in to Datetime objects. Do this for all 4 DataFrames. Double check if your type conversion was successful."
   ]
  },
  {
   "cell_type": "code",
   "execution_count": 37,
   "metadata": {},
   "outputs": [],
   "source": [
    "df_tesla.MONTH = pd.to_datetime(df_tesla.MONTH)\n",
    "df_unemployment.MONTH = pd.to_datetime(df_unemployment.MONTH)\n",
    "df_btc_search.MONTH = pd.to_datetime(df_btc_search.MONTH)\n",
    "df_btc_price.DATE = pd.to_datetime(df_btc_price.DATE)"
   ]
  },
  {
   "cell_type": "code",
   "execution_count": 40,
   "metadata": {},
   "outputs": [
    {
     "name": "stdout",
     "output_type": "stream",
     "text": [
      "<class 'pandas._libs.tslibs.timestamps.Timestamp'>\n"
     ]
    }
   ],
   "source": [
    "print(type(df_tesla.MONTH[0]))"
   ]
  },
  {
   "cell_type": "code",
   "execution_count": 43,
   "metadata": {},
   "outputs": [
    {
     "name": "stdout",
     "output_type": "stream",
     "text": [
      "                 CLOSE      VOLUME\n",
      "DATE                              \n",
      "2014-09-30  386.944000  34707300.0\n",
      "2014-10-31  338.321014  12545400.0\n",
      "2014-11-30  378.046997   9194440.0\n",
      "2014-12-31  320.192993  13942900.0\n",
      "2015-01-31  217.464005  23348200.0\n",
      "(73, 2)\n",
      "                 CLOSE        VOLUME\n",
      "DATE                                \n",
      "2014-09-30  407.182428  2.934864e+07\n",
      "2014-10-31  364.148873  2.912885e+07\n",
      "2014-11-30  366.099799  2.199111e+07\n",
      "2014-12-31  341.267871  1.784201e+07\n",
      "2015-01-31  248.782547  3.544555e+07\n",
      "(73, 2)\n"
     ]
    }
   ],
   "source": []
  },
  {
   "cell_type": "markdown",
   "metadata": {},
   "source": [
    "### Converting from Daily to Monthly Data\n",
    "\n",
    "[Pandas .resample() documentation](https://pandas.pydata.org/pandas-docs/stable/reference/api/pandas.DataFrame.resample.html) <br>"
   ]
  },
  {
   "cell_type": "code",
   "execution_count": 44,
   "metadata": {},
   "outputs": [
    {
     "name": "stdout",
     "output_type": "stream",
     "text": [
      "                 CLOSE      VOLUME\n",
      "DATE                              \n",
      "2014-09-30  386.944000  34707300.0\n",
      "2014-10-31  338.321014  12545400.0\n",
      "2014-11-30  378.046997   9194440.0\n",
      "2014-12-31  320.192993  13942900.0\n",
      "2015-01-31  217.464005  23348200.0\n",
      "(73, 2)\n",
      "                 CLOSE        VOLUME\n",
      "DATE                                \n",
      "2014-09-30  407.182428  2.934864e+07\n",
      "2014-10-31  364.148873  2.912885e+07\n",
      "2014-11-30  366.099799  2.199111e+07\n",
      "2014-12-31  341.267871  1.784201e+07\n",
      "2015-01-31  248.782547  3.544555e+07\n",
      "(73, 2)\n"
     ]
    }
   ],
   "source": [
    "df_btc_monthly_last = df_btc_price.resample('M', on='DATE').last()\n",
    "print(df_btc_monthly_last.head())\n",
    "print(df_btc_monthly_last.shape)\n",
    "df_btc_monthly_mean = df_btc_price.resample('M', on='DATE').mean()\n",
    "print(df_btc_monthly_mean.head())\n",
    "print(df_btc_monthly_mean.shape)"
   ]
  },
  {
   "cell_type": "code",
   "execution_count": null,
   "metadata": {},
   "outputs": [],
   "source": []
  },
  {
   "cell_type": "markdown",
   "metadata": {},
   "source": [
    "# Data Visualisation"
   ]
  },
  {
   "cell_type": "markdown",
   "metadata": {},
   "source": [
    "### Notebook Formatting & Style Helpers"
   ]
  },
  {
   "cell_type": "code",
   "execution_count": 53,
   "metadata": {},
   "outputs": [
    {
     "data": {
      "image/png": "[encoded data removed]",
      "text/plain": [
       "<Figure size 1680x960 with 2 Axes>"
      ]
     },
     "metadata": {},
     "output_type": "display_data"
    }
   ],
   "source": [
    "# increases size and resolution\n",
    "plt.figure(figsize=(14,8), dpi=120) \n",
    "plt.title('Tesla Web Search vs Price', fontsize=18)\n",
    " \n",
    "ax1 = plt.gca()\n",
    "ax2 = ax1.twinx()\n",
    " \n",
    "# Also, increase fontsize and linewidth for larger charts\n",
    "ax1.set_ylabel('TSLA Stock Price', color='#E6232E', fontsize=14)\n",
    "ax2.set_ylabel('Search Trend', color='skyblue', fontsize=14)\n",
    " \n",
    "ax1.plot(df_tesla.MONTH, df_tesla.TSLA_USD_CLOSE, color='#E6232E', linewidth=3)\n",
    "ax2.plot(df_tesla.MONTH, df_tesla.TSLA_WEB_SEARCH, color='skyblue', linewidth=3)\n",
    " \n",
    "# Displays chart explicitly\n",
    "plt.show()\n",
    "\n",
    "# # increases size and resolution\n",
    "# plt.figure(figsize=(14,8), dpi=120) \n",
    "# plt.title('Tesla Web Search vs Price', fontsize=18)\n",
    " \n",
    "# ax1 = plt.gca()\n",
    "# ax2 = ax1.twinx()\n",
    " \n",
    "# # Also, increase fontsize and linewidth for larger charts\n",
    "# ax1.set_ylabel('TSLA Stock Price', color='#E6232E', fontsize=14)\n",
    "# ax2.set_ylabel('Search Trend', color='skyblue', fontsize=14)\n",
    " \n",
    "# ax1.plot(df_tesla.MONTH, df_tesla.TSLA_USD_CLOSE, color='#E6232E', linewidth=3)\n",
    "# ax2.plot(df_tesla.MONTH, df_tesla.TSLA_WEB_SEARCH, color='skyblue', linewidth=3)\n",
    " \n",
    "# # Displays chart explicitly\n",
    "# plt.show()"
   ]
  },
  {
   "cell_type": "code",
   "execution_count": 55,
   "metadata": {},
   "outputs": [],
   "source": [
    "# Register date converters to avoid warning messages\n",
    "from pandas.plotting import register_matplotlib_converters\n",
    "register_matplotlib_converters()"
   ]
  },
  {
   "cell_type": "code",
   "execution_count": 59,
   "metadata": {},
   "outputs": [],
   "source": [
    "# from matplotlib.dates import mdates\n",
    "# years = mdates.YearLocator()\n",
    "# months = mdates.MonthLocator()\n",
    "# years_fmt = mdates.Dateformatter()\n",
    "# format the ticksax1.xaxis.set_major_locator(years)ax1.xaxis.set_major_formatter(years_fmt)ax1.xaxis.set_minor_locator(months)"
   ]
  },
  {
   "cell_type": "markdown",
   "metadata": {},
   "source": [
    "### Tesla Stock Price v.s. Search Volume"
   ]
  },
  {
   "cell_type": "markdown",
   "metadata": {},
   "source": [
    "**Challenge:** Plot the Tesla stock price against the Tesla search volume using a line chart and two different axes. Label one axis 'TSLA Stock Price' and the other 'Search Trend'. "
   ]
  },
  {
   "cell_type": "code",
   "execution_count": null,
   "metadata": {},
   "outputs": [],
   "source": []
  },
  {
   "cell_type": "markdown",
   "metadata": {},
   "source": [
    "**Challenge**: Add colours to style the chart. This will help differentiate the two lines and the axis labels. Try using one of the blue [colour names](https://matplotlib.org/3.1.1/gallery/color/named_colors.html) for the search volume and a HEX code for a red colour for the stock price. \n",
    "<br>\n",
    "<br>\n",
    "Hint: you can colour both the [axis labels](https://matplotlib.org/3.3.2/api/text_api.html#matplotlib.text.Text) and the [lines](https://matplotlib.org/3.2.1/api/_as_gen/matplotlib.lines.Line2D.html#matplotlib.lines.Line2D) on the chart using keyword arguments (kwargs).  "
   ]
  },
  {
   "cell_type": "code",
   "execution_count": null,
   "metadata": {},
   "outputs": [],
   "source": []
  },
  {
   "cell_type": "markdown",
   "metadata": {},
   "source": [
    "**Challenge**: Make the chart larger and easier to read. \n",
    "1. Increase the figure size (e.g., to 14 by 8). \n",
    "2. Increase the font sizes for the labels and the ticks on the x-axis to 14. \n",
    "3. Rotate the text on the x-axis by 45 degrees. \n",
    "4. Make the lines on the chart thicker. \n",
    "5. Add a title that reads 'Tesla Web Search vs Price'\n",
    "6. Keep the chart looking sharp by changing the dots-per-inch or [DPI value](https://matplotlib.org/3.1.1/api/_as_gen/matplotlib.pyplot.figure.html). \n",
    "7. Set minimum and maximum values for the y and x axis. Hint: check out methods like [set_xlim()](https://matplotlib.org/3.1.1/api/_as_gen/matplotlib.axes.Axes.set_xlim.html). \n",
    "8. Finally use [plt.show()](https://matplotlib.org/3.2.1/api/_as_gen/matplotlib.pyplot.show.html) to display the chart below the cell instead of relying on the automatic notebook output."
   ]
  },
  {
   "cell_type": "code",
   "execution_count": null,
   "metadata": {},
   "outputs": [],
   "source": []
  },
  {
   "cell_type": "markdown",
   "metadata": {},
   "source": [
    "How to add tick formatting for dates on the x-axis. "
   ]
  },
  {
   "cell_type": "code",
   "execution_count": null,
   "metadata": {},
   "outputs": [],
   "source": []
  },
  {
   "cell_type": "markdown",
   "metadata": {},
   "source": [
    "### Bitcoin (BTC) Price v.s. Search Volume"
   ]
  },
  {
   "cell_type": "markdown",
   "metadata": {},
   "source": [
    "**Challenge**: Create the same chart for the Bitcoin Prices vs. Search volumes. <br>\n",
    "1. Modify the chart title to read 'Bitcoin News Search vs Resampled Price' <br>\n",
    "2. Change the y-axis label to 'BTC Price' <br>\n",
    "3. Change the y- and x-axis limits to improve the appearance <br>\n",
    "4. Investigate the [linestyles](https://matplotlib.org/3.2.1/api/_as_gen/matplotlib.pyplot.plot.html ) to make the BTC price a dashed line <br>\n",
    "5. Investigate the [marker types](https://matplotlib.org/3.2.1/api/markers_api.html) to make the search datapoints little circles <br>\n",
    "6. Were big increases in searches for Bitcoin accompanied by big increases in the price?"
   ]
  },
  {
   "cell_type": "code",
   "execution_count": null,
   "metadata": {},
   "outputs": [],
   "source": [
    "plt.figure(figsize=(14,8), dpi=120)\n",
    " \n",
    "plt.title('Bitcoin News Search vs Resampled Price', fontsize=18)\n",
    "plt.xticks(fontsize=14, rotation=45)\n",
    " \n",
    "ax1 = plt.gca()\n",
    "ax2 = ax1.twinx()\n",
    " \n",
    "ax1.set_ylabel('BTC Price', color='#F08F2E', fontsize=14)\n",
    "ax2.set_ylabel('Search Trend', color='skyblue', fontsize=14)\n",
    " \n",
    "ax1.xaxis.set_major_locator(years)\n",
    "ax1.xaxis.set_major_formatter(years_fmt)\n",
    "ax1.xaxis.set_minor_locator(months)\n",
    " \n",
    "ax1.set_ylim(bottom=0, top=15000)\n",
    "ax1.set_xlim([df_btc_monthly.index.min(), df_btc_monthly.index.max()])\n",
    " \n",
    "# Experiment with the linestyle and markers\n",
    "ax1.plot(df_btc_monthly.index, df_btc_monthly.CLOSE, \n",
    "         color='#F08F2E', linewidth=3, linestyle='--')\n",
    "ax2.plot(df_btc_monthly.index, df_btc_search.BTC_NEWS_SEARCH, \n",
    "         color='skyblue', linewidth=3, marker='o')\n",
    " \n",
    "plt.show()"
   ]
  },
  {
   "cell_type": "code",
   "execution_count": null,
   "metadata": {},
   "outputs": [],
   "source": []
  },
  {
   "cell_type": "markdown",
   "metadata": {},
   "source": [
    "### Unemployement Benefits Search vs. Actual Unemployment in the U.S."
   ]
  },
  {
   "cell_type": "markdown",
   "metadata": {},
   "source": [
    "**Challenge** Plot the search for \"unemployment benefits\" against the unemployment rate. \n",
    "1. Change the title to: Monthly Search of \"Unemployment Benefits\" in the U.S. vs the U/E Rate <br>\n",
    "2. Change the y-axis label to: FRED U/E Rate <br>\n",
    "3. Change the axis limits <br>\n",
    "4. Add a grey [grid](https://matplotlib.org/3.2.1/api/_as_gen/matplotlib.pyplot.grid.html) to the chart to better see the years and the U/E rate values. Use dashes for the line style<br> \n",
    "5. Can you discern any seasonality in the searches? Is there a pattern? "
   ]
  },
  {
   "cell_type": "code",
   "execution_count": null,
   "metadata": {},
   "outputs": [],
   "source": []
  },
  {
   "cell_type": "markdown",
   "metadata": {},
   "source": [
    "**Challenge**: Calculate the 3-month or 6-month rolling average for the web searches. Plot the 6-month rolling average search data against the actual unemployment. What do you see in the chart? Which line moves first?\n"
   ]
  },
  {
   "cell_type": "code",
   "execution_count": null,
   "metadata": {},
   "outputs": [],
   "source": []
  },
  {
   "cell_type": "markdown",
   "metadata": {},
   "source": [
    "### Including 2020 in Unemployment Charts"
   ]
  },
  {
   "cell_type": "markdown",
   "metadata": {},
   "source": [
    "**Challenge**: Read the data in the 'UE Benefits Search vs UE Rate 2004-20.csv' into a DataFrame. Convert the MONTH column to Pandas Datetime objects and then plot the chart. What do you see?"
   ]
  },
  {
   "cell_type": "code",
   "execution_count": null,
   "metadata": {},
   "outputs": [],
   "source": []
  },
  {
   "cell_type": "code",
   "execution_count": null,
   "metadata": {},
   "outputs": [],
   "source": []
  },
  {
   "cell_type": "code",
   "execution_count": 29,
   "metadata": {},
   "outputs": [],
   "source": []
  }
 ],
 "metadata": {
  "kernelspec": {
   "display_name": "Python 3",
   "language": "python",
   "name": "python3"
  },
  "language_info": {
   "codemirror_mode": {
    "name": "ipython",
    "version": 3
   },
   "file_extension": ".py",
   "mimetype": "text/x-python",
   "name": "python",
   "nbconvert_exporter": "python",
   "pygments_lexer": "ipython3",
   "version": "3.10.6"
  }
 },
 "nbformat": 4,
 "nbformat_minor": 2
}
